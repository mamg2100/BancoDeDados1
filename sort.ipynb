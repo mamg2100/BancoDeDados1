{
  "nbformat": 4,
  "nbformat_minor": 0,
  "metadata": {
    "colab": {
      "name": "sort.ipynb",
      "provenance": [],
      "collapsed_sections": [],
      "authorship_tag": "ABX9TyNUh8McADnOai5IuchYBlFy",
      "include_colab_link": true
    },
    "kernelspec": {
      "name": "python3",
      "display_name": "Python 3"
    }
  },
  "cells": [
    {
      "cell_type": "markdown",
      "metadata": {
        "id": "view-in-github",
        "colab_type": "text"
      },
      "source": [
        "<a href=\"https://colab.research.google.com/github/mamg2100/BancoDeDados1/blob/master/sort.ipynb\" target=\"_parent\"><img src=\"https://colab.research.google.com/assets/colab-badge.svg\" alt=\"Open In Colab\"/></a>"
      ]
    },
    {
      "cell_type": "code",
      "metadata": {
        "colab": {
          "base_uri": "https://localhost:8080/"
        },
        "id": "tGVLGlg3Q9dt",
        "outputId": "de4473ba-1389-4b46-f27f-02fff2cfc7e2"
      },
      "source": [
        "import random\r\n",
        "lista = []\r\n",
        "\r\n",
        "for _ in range(12):\r\n",
        "  num = random.randrange(0,100)\r\n",
        "  lista.append(num)\r\n",
        "\r\n",
        "def sort(lista): \r\n",
        "  for _ in range(len(lista)): \r\n",
        "    for posj, j in enumerate(lista):\r\n",
        "      if posj+1 < len(lista): \r\n",
        "        if lista[posj+1] < lista[posj]:        \r\n",
        "          aux = lista[posj+1]\r\n",
        "          lista[posj+1] = lista[posj]\r\n",
        "          lista[posj] = aux          \r\n",
        "      \r\n",
        "print('Lista original: ' + str(lista))\r\n",
        "sort(lista)\r\n",
        "print('Lista ordenada: ' + str(lista))"
      ],
      "execution_count": null,
      "outputs": [
        {
          "output_type": "stream",
          "text": [
            "Lista original: [35, 11, 71, 22, 95, 77, 15, 55, 48, 52, 82, 59]\n",
            "Lista ordenada: [11, 15, 22, 35, 48, 52, 55, 59, 71, 77, 82, 95]\n"
          ],
          "name": "stdout"
        }
      ]
    }
  ]
}